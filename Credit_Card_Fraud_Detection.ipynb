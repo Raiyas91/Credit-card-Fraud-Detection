{
  "nbformat": 4,
  "nbformat_minor": 0,
  "metadata": {
    "colab": {
      "name": "Credit Card Fraud Detection.ipynb",
      "provenance": [],
      "collapsed_sections": [],
      "authorship_tag": "ABX9TyOsTk/Gu7D9fj8BOu2JUX0P",
      "include_colab_link": true
    },
    "kernelspec": {
      "name": "python3",
      "display_name": "Python 3"
    },
    "language_info": {
      "name": "python"
    }
  },
  "cells": [
    {
      "cell_type": "markdown",
      "metadata": {
        "id": "view-in-github",
        "colab_type": "text"
      },
      "source": [
        "<a href=\"https://colab.research.google.com/github/Raiyas91/Credit-card-Fraud-Detection/blob/main/Credit_Card_Fraud_Detection.ipynb\" target=\"_parent\"><img src=\"https://colab.research.google.com/assets/colab-badge.svg\" alt=\"Open In Colab\"/></a>"
      ]
    },
    {
      "cell_type": "markdown",
      "source": [
        "Importing the dependencies"
      ],
      "metadata": {
        "id": "d31M9IFmv_W8"
      }
    },
    {
      "cell_type": "code",
      "source": [
        "import numpy as np\n",
        "import pandas as pd\n",
        "from sklearn.model_selection import train_test_split\n",
        "from sklearn.linear_model import LogisticRegression\n",
        "from sklearn.metrics import accuracy_score\n",
        "from sklearn.ensemble import RandomForestClassifier\n",
        "from sklearn.metrics import confusion_matrix\n",
        "import matplotlib.pyplot as plt\n",
        "import seaborn as sns\n",
        "from matplotlib import gridspec"
      ],
      "metadata": {
        "id": "c7HKMkqbwH6R"
      },
      "execution_count": 44,
      "outputs": []
    },
    {
      "cell_type": "markdown",
      "source": [
        "Load the dataset"
      ],
      "metadata": {
        "id": "sxo8wSSDwwj5"
      }
    },
    {
      "cell_type": "code",
      "source": [
        "credit_card_data = pd.read_csv(\"/content/creditcard.csv\")"
      ],
      "metadata": {
        "id": "od4lHo4QxtPq"
      },
      "execution_count": 6,
      "outputs": []
    },
    {
      "cell_type": "markdown",
      "source": [
        "Print first five rows."
      ],
      "metadata": {
        "id": "ZOxHVo_6x7Kd"
      }
    },
    {
      "cell_type": "code",
      "source": [
        "credit_card_data.head()"
      ],
      "metadata": {
        "colab": {
          "base_uri": "https://localhost:8080/",
          "height": 300
        },
        "id": "VTkcSQnjxsxS",
        "outputId": "64606daf-fea2-4bce-85d3-edd5b730b10a"
      },
      "execution_count": 7,
      "outputs": [
        {
          "output_type": "execute_result",
          "data": {
            "text/plain": [
              "   Time        V1        V2        V3        V4        V5        V6        V7  \\\n",
              "0   0.0 -1.359807 -0.072781  2.536347  1.378155 -0.338321  0.462388  0.239599   \n",
              "1   0.0  1.191857  0.266151  0.166480  0.448154  0.060018 -0.082361 -0.078803   \n",
              "2   1.0 -1.358354 -1.340163  1.773209  0.379780 -0.503198  1.800499  0.791461   \n",
              "3   1.0 -0.966272 -0.185226  1.792993 -0.863291 -0.010309  1.247203  0.237609   \n",
              "4   2.0 -1.158233  0.877737  1.548718  0.403034 -0.407193  0.095921  0.592941   \n",
              "\n",
              "         V8        V9  ...       V21       V22       V23       V24       V25  \\\n",
              "0  0.098698  0.363787  ... -0.018307  0.277838 -0.110474  0.066928  0.128539   \n",
              "1  0.085102 -0.255425  ... -0.225775 -0.638672  0.101288 -0.339846  0.167170   \n",
              "2  0.247676 -1.514654  ...  0.247998  0.771679  0.909412 -0.689281 -0.327642   \n",
              "3  0.377436 -1.387024  ... -0.108300  0.005274 -0.190321 -1.175575  0.647376   \n",
              "4 -0.270533  0.817739  ... -0.009431  0.798278 -0.137458  0.141267 -0.206010   \n",
              "\n",
              "        V26       V27       V28  Amount  Class  \n",
              "0 -0.189115  0.133558 -0.021053  149.62    0.0  \n",
              "1  0.125895 -0.008983  0.014724    2.69    0.0  \n",
              "2 -0.139097 -0.055353 -0.059752  378.66    0.0  \n",
              "3 -0.221929  0.062723  0.061458  123.50    0.0  \n",
              "4  0.502292  0.219422  0.215153   69.99    0.0  \n",
              "\n",
              "[5 rows x 31 columns]"
            ],
            "text/html": [
              "\n",
              "  <div id=\"df-954c9da2-f88e-4083-9edd-87e65ddc344e\">\n",
              "    <div class=\"colab-df-container\">\n",
              "      <div>\n",
              "<style scoped>\n",
              "    .dataframe tbody tr th:only-of-type {\n",
              "        vertical-align: middle;\n",
              "    }\n",
              "\n",
              "    .dataframe tbody tr th {\n",
              "        vertical-align: top;\n",
              "    }\n",
              "\n",
              "    .dataframe thead th {\n",
              "        text-align: right;\n",
              "    }\n",
              "</style>\n",
              "<table border=\"1\" class=\"dataframe\">\n",
              "  <thead>\n",
              "    <tr style=\"text-align: right;\">\n",
              "      <th></th>\n",
              "      <th>Time</th>\n",
              "      <th>V1</th>\n",
              "      <th>V2</th>\n",
              "      <th>V3</th>\n",
              "      <th>V4</th>\n",
              "      <th>V5</th>\n",
              "      <th>V6</th>\n",
              "      <th>V7</th>\n",
              "      <th>V8</th>\n",
              "      <th>V9</th>\n",
              "      <th>...</th>\n",
              "      <th>V21</th>\n",
              "      <th>V22</th>\n",
              "      <th>V23</th>\n",
              "      <th>V24</th>\n",
              "      <th>V25</th>\n",
              "      <th>V26</th>\n",
              "      <th>V27</th>\n",
              "      <th>V28</th>\n",
              "      <th>Amount</th>\n",
              "      <th>Class</th>\n",
              "    </tr>\n",
              "  </thead>\n",
              "  <tbody>\n",
              "    <tr>\n",
              "      <th>0</th>\n",
              "      <td>0.0</td>\n",
              "      <td>-1.359807</td>\n",
              "      <td>-0.072781</td>\n",
              "      <td>2.536347</td>\n",
              "      <td>1.378155</td>\n",
              "      <td>-0.338321</td>\n",
              "      <td>0.462388</td>\n",
              "      <td>0.239599</td>\n",
              "      <td>0.098698</td>\n",
              "      <td>0.363787</td>\n",
              "      <td>...</td>\n",
              "      <td>-0.018307</td>\n",
              "      <td>0.277838</td>\n",
              "      <td>-0.110474</td>\n",
              "      <td>0.066928</td>\n",
              "      <td>0.128539</td>\n",
              "      <td>-0.189115</td>\n",
              "      <td>0.133558</td>\n",
              "      <td>-0.021053</td>\n",
              "      <td>149.62</td>\n",
              "      <td>0.0</td>\n",
              "    </tr>\n",
              "    <tr>\n",
              "      <th>1</th>\n",
              "      <td>0.0</td>\n",
              "      <td>1.191857</td>\n",
              "      <td>0.266151</td>\n",
              "      <td>0.166480</td>\n",
              "      <td>0.448154</td>\n",
              "      <td>0.060018</td>\n",
              "      <td>-0.082361</td>\n",
              "      <td>-0.078803</td>\n",
              "      <td>0.085102</td>\n",
              "      <td>-0.255425</td>\n",
              "      <td>...</td>\n",
              "      <td>-0.225775</td>\n",
              "      <td>-0.638672</td>\n",
              "      <td>0.101288</td>\n",
              "      <td>-0.339846</td>\n",
              "      <td>0.167170</td>\n",
              "      <td>0.125895</td>\n",
              "      <td>-0.008983</td>\n",
              "      <td>0.014724</td>\n",
              "      <td>2.69</td>\n",
              "      <td>0.0</td>\n",
              "    </tr>\n",
              "    <tr>\n",
              "      <th>2</th>\n",
              "      <td>1.0</td>\n",
              "      <td>-1.358354</td>\n",
              "      <td>-1.340163</td>\n",
              "      <td>1.773209</td>\n",
              "      <td>0.379780</td>\n",
              "      <td>-0.503198</td>\n",
              "      <td>1.800499</td>\n",
              "      <td>0.791461</td>\n",
              "      <td>0.247676</td>\n",
              "      <td>-1.514654</td>\n",
              "      <td>...</td>\n",
              "      <td>0.247998</td>\n",
              "      <td>0.771679</td>\n",
              "      <td>0.909412</td>\n",
              "      <td>-0.689281</td>\n",
              "      <td>-0.327642</td>\n",
              "      <td>-0.139097</td>\n",
              "      <td>-0.055353</td>\n",
              "      <td>-0.059752</td>\n",
              "      <td>378.66</td>\n",
              "      <td>0.0</td>\n",
              "    </tr>\n",
              "    <tr>\n",
              "      <th>3</th>\n",
              "      <td>1.0</td>\n",
              "      <td>-0.966272</td>\n",
              "      <td>-0.185226</td>\n",
              "      <td>1.792993</td>\n",
              "      <td>-0.863291</td>\n",
              "      <td>-0.010309</td>\n",
              "      <td>1.247203</td>\n",
              "      <td>0.237609</td>\n",
              "      <td>0.377436</td>\n",
              "      <td>-1.387024</td>\n",
              "      <td>...</td>\n",
              "      <td>-0.108300</td>\n",
              "      <td>0.005274</td>\n",
              "      <td>-0.190321</td>\n",
              "      <td>-1.175575</td>\n",
              "      <td>0.647376</td>\n",
              "      <td>-0.221929</td>\n",
              "      <td>0.062723</td>\n",
              "      <td>0.061458</td>\n",
              "      <td>123.50</td>\n",
              "      <td>0.0</td>\n",
              "    </tr>\n",
              "    <tr>\n",
              "      <th>4</th>\n",
              "      <td>2.0</td>\n",
              "      <td>-1.158233</td>\n",
              "      <td>0.877737</td>\n",
              "      <td>1.548718</td>\n",
              "      <td>0.403034</td>\n",
              "      <td>-0.407193</td>\n",
              "      <td>0.095921</td>\n",
              "      <td>0.592941</td>\n",
              "      <td>-0.270533</td>\n",
              "      <td>0.817739</td>\n",
              "      <td>...</td>\n",
              "      <td>-0.009431</td>\n",
              "      <td>0.798278</td>\n",
              "      <td>-0.137458</td>\n",
              "      <td>0.141267</td>\n",
              "      <td>-0.206010</td>\n",
              "      <td>0.502292</td>\n",
              "      <td>0.219422</td>\n",
              "      <td>0.215153</td>\n",
              "      <td>69.99</td>\n",
              "      <td>0.0</td>\n",
              "    </tr>\n",
              "  </tbody>\n",
              "</table>\n",
              "<p>5 rows × 31 columns</p>\n",
              "</div>\n",
              "      <button class=\"colab-df-convert\" onclick=\"convertToInteractive('df-954c9da2-f88e-4083-9edd-87e65ddc344e')\"\n",
              "              title=\"Convert this dataframe to an interactive table.\"\n",
              "              style=\"display:none;\">\n",
              "        \n",
              "  <svg xmlns=\"http://www.w3.org/2000/svg\" height=\"24px\"viewBox=\"0 0 24 24\"\n",
              "       width=\"24px\">\n",
              "    <path d=\"M0 0h24v24H0V0z\" fill=\"none\"/>\n",
              "    <path d=\"M18.56 5.44l.94 2.06.94-2.06 2.06-.94-2.06-.94-.94-2.06-.94 2.06-2.06.94zm-11 1L8.5 8.5l.94-2.06 2.06-.94-2.06-.94L8.5 2.5l-.94 2.06-2.06.94zm10 10l.94 2.06.94-2.06 2.06-.94-2.06-.94-.94-2.06-.94 2.06-2.06.94z\"/><path d=\"M17.41 7.96l-1.37-1.37c-.4-.4-.92-.59-1.43-.59-.52 0-1.04.2-1.43.59L10.3 9.45l-7.72 7.72c-.78.78-.78 2.05 0 2.83L4 21.41c.39.39.9.59 1.41.59.51 0 1.02-.2 1.41-.59l7.78-7.78 2.81-2.81c.8-.78.8-2.07 0-2.86zM5.41 20L4 18.59l7.72-7.72 1.47 1.35L5.41 20z\"/>\n",
              "  </svg>\n",
              "      </button>\n",
              "      \n",
              "  <style>\n",
              "    .colab-df-container {\n",
              "      display:flex;\n",
              "      flex-wrap:wrap;\n",
              "      gap: 12px;\n",
              "    }\n",
              "\n",
              "    .colab-df-convert {\n",
              "      background-color: #E8F0FE;\n",
              "      border: none;\n",
              "      border-radius: 50%;\n",
              "      cursor: pointer;\n",
              "      display: none;\n",
              "      fill: #1967D2;\n",
              "      height: 32px;\n",
              "      padding: 0 0 0 0;\n",
              "      width: 32px;\n",
              "    }\n",
              "\n",
              "    .colab-df-convert:hover {\n",
              "      background-color: #E2EBFA;\n",
              "      box-shadow: 0px 1px 2px rgba(60, 64, 67, 0.3), 0px 1px 3px 1px rgba(60, 64, 67, 0.15);\n",
              "      fill: #174EA6;\n",
              "    }\n",
              "\n",
              "    [theme=dark] .colab-df-convert {\n",
              "      background-color: #3B4455;\n",
              "      fill: #D2E3FC;\n",
              "    }\n",
              "\n",
              "    [theme=dark] .colab-df-convert:hover {\n",
              "      background-color: #434B5C;\n",
              "      box-shadow: 0px 1px 3px 1px rgba(0, 0, 0, 0.15);\n",
              "      filter: drop-shadow(0px 1px 2px rgba(0, 0, 0, 0.3));\n",
              "      fill: #FFFFFF;\n",
              "    }\n",
              "  </style>\n",
              "\n",
              "      <script>\n",
              "        const buttonEl =\n",
              "          document.querySelector('#df-954c9da2-f88e-4083-9edd-87e65ddc344e button.colab-df-convert');\n",
              "        buttonEl.style.display =\n",
              "          google.colab.kernel.accessAllowed ? 'block' : 'none';\n",
              "\n",
              "        async function convertToInteractive(key) {\n",
              "          const element = document.querySelector('#df-954c9da2-f88e-4083-9edd-87e65ddc344e');\n",
              "          const dataTable =\n",
              "            await google.colab.kernel.invokeFunction('convertToInteractive',\n",
              "                                                     [key], {});\n",
              "          if (!dataTable) return;\n",
              "\n",
              "          const docLinkHtml = 'Like what you see? Visit the ' +\n",
              "            '<a target=\"_blank\" href=https://colab.research.google.com/notebooks/data_table.ipynb>data table notebook</a>'\n",
              "            + ' to learn more about interactive tables.';\n",
              "          element.innerHTML = '';\n",
              "          dataTable['output_type'] = 'display_data';\n",
              "          await google.colab.output.renderOutput(dataTable, element);\n",
              "          const docLink = document.createElement('div');\n",
              "          docLink.innerHTML = docLinkHtml;\n",
              "          element.appendChild(docLink);\n",
              "        }\n",
              "      </script>\n",
              "    </div>\n",
              "  </div>\n",
              "  "
            ]
          },
          "metadata": {},
          "execution_count": 7
        }
      ]
    },
    {
      "cell_type": "code",
      "source": [
        "#dataset information\n",
        "credit_card_data.info()"
      ],
      "metadata": {
        "colab": {
          "base_uri": "https://localhost:8080/"
        },
        "id": "-P9ZnMetyZ3F",
        "outputId": "a5aadf7d-9afe-4dad-af71-b47363a61310"
      },
      "execution_count": 8,
      "outputs": [
        {
          "output_type": "stream",
          "name": "stdout",
          "text": [
            "<class 'pandas.core.frame.DataFrame'>\n",
            "RangeIndex: 162557 entries, 0 to 162556\n",
            "Data columns (total 31 columns):\n",
            " #   Column  Non-Null Count   Dtype  \n",
            "---  ------  --------------   -----  \n",
            " 0   Time    162557 non-null  float64\n",
            " 1   V1      162557 non-null  float64\n",
            " 2   V2      162557 non-null  float64\n",
            " 3   V3      162557 non-null  float64\n",
            " 4   V4      162557 non-null  float64\n",
            " 5   V5      162557 non-null  float64\n",
            " 6   V6      162557 non-null  float64\n",
            " 7   V7      162557 non-null  float64\n",
            " 8   V8      162557 non-null  float64\n",
            " 9   V9      162557 non-null  float64\n",
            " 10  V10     162557 non-null  float64\n",
            " 11  V11     162557 non-null  float64\n",
            " 12  V12     162557 non-null  float64\n",
            " 13  V13     162557 non-null  float64\n",
            " 14  V14     162557 non-null  float64\n",
            " 15  V15     162557 non-null  float64\n",
            " 16  V16     162557 non-null  float64\n",
            " 17  V17     162557 non-null  float64\n",
            " 18  V18     162557 non-null  float64\n",
            " 19  V19     162557 non-null  float64\n",
            " 20  V20     162557 non-null  float64\n",
            " 21  V21     162557 non-null  float64\n",
            " 22  V22     162557 non-null  float64\n",
            " 23  V23     162557 non-null  float64\n",
            " 24  V24     162557 non-null  float64\n",
            " 25  V25     162557 non-null  float64\n",
            " 26  V26     162557 non-null  float64\n",
            " 27  V27     162557 non-null  float64\n",
            " 28  V28     162556 non-null  float64\n",
            " 29  Amount  162556 non-null  float64\n",
            " 30  Class   162556 non-null  float64\n",
            "dtypes: float64(31)\n",
            "memory usage: 38.4 MB\n"
          ]
        }
      ]
    },
    {
      "cell_type": "code",
      "source": [
        "#checking the missing values in each column\n",
        "credit_card_data.isnull().sum()"
      ],
      "metadata": {
        "colab": {
          "base_uri": "https://localhost:8080/"
        },
        "id": "Cl6mIoogykiT",
        "outputId": "88b01a86-0b36-43af-ce0a-b10537fa05a5"
      },
      "execution_count": 9,
      "outputs": [
        {
          "output_type": "execute_result",
          "data": {
            "text/plain": [
              "Time      0\n",
              "V1        0\n",
              "V2        0\n",
              "V3        0\n",
              "V4        0\n",
              "V5        0\n",
              "V6        0\n",
              "V7        0\n",
              "V8        0\n",
              "V9        0\n",
              "V10       0\n",
              "V11       0\n",
              "V12       0\n",
              "V13       0\n",
              "V14       0\n",
              "V15       0\n",
              "V16       0\n",
              "V17       0\n",
              "V18       0\n",
              "V19       0\n",
              "V20       0\n",
              "V21       0\n",
              "V22       0\n",
              "V23       0\n",
              "V24       0\n",
              "V25       0\n",
              "V26       0\n",
              "V27       0\n",
              "V28       1\n",
              "Amount    1\n",
              "Class     1\n",
              "dtype: int64"
            ]
          },
          "metadata": {},
          "execution_count": 9
        }
      ]
    },
    {
      "cell_type": "code",
      "source": [
        "# distribution of legit transaction and fraudulent transaction\n",
        "credit_card_data['Class'].value_counts()"
      ],
      "metadata": {
        "colab": {
          "base_uri": "https://localhost:8080/"
        },
        "id": "sRuV0dAfy0lx",
        "outputId": "bdaf93c3-d890-4f87-f5cb-94bd57ccd210"
      },
      "execution_count": 10,
      "outputs": [
        {
          "output_type": "execute_result",
          "data": {
            "text/plain": [
              "0.0    162200\n",
              "1.0       356\n",
              "Name: Class, dtype: int64"
            ]
          },
          "metadata": {},
          "execution_count": 10
        }
      ]
    },
    {
      "cell_type": "code",
      "source": [
        "#separating the data for analysis\n",
        "legit = credit_card_data[credit_card_data.Class == 0]\n",
        "fraud = credit_card_data[credit_card_data.Class == 1]"
      ],
      "metadata": {
        "id": "9nKw453K0brN"
      },
      "execution_count": 11,
      "outputs": []
    },
    {
      "cell_type": "code",
      "source": [
        "print(legit.shape)\n",
        "print(fraud.shape)"
      ],
      "metadata": {
        "colab": {
          "base_uri": "https://localhost:8080/"
        },
        "id": "4a6UFTwl0g1R",
        "outputId": "9a4795e8-c881-49d2-94d0-0869c0ab6de1"
      },
      "execution_count": 12,
      "outputs": [
        {
          "output_type": "stream",
          "name": "stdout",
          "text": [
            "(162200, 31)\n",
            "(356, 31)\n"
          ]
        }
      ]
    },
    {
      "cell_type": "code",
      "source": [
        "1 # Statistical measures of the data\n",
        "legit.Amount.describe()"
      ],
      "metadata": {
        "colab": {
          "base_uri": "https://localhost:8080/"
        },
        "id": "Sy8Nsr2v0o6-",
        "outputId": "cd913292-2026-49ff-ae1b-7450198f19cf"
      },
      "execution_count": 13,
      "outputs": [
        {
          "output_type": "execute_result",
          "data": {
            "text/plain": [
              "count    162200.000000\n",
              "mean         86.929842\n",
              "std         244.400180\n",
              "min           0.000000\n",
              "25%           5.380000\n",
              "50%          21.350000\n",
              "75%          76.070000\n",
              "max       19656.530000\n",
              "Name: Amount, dtype: float64"
            ]
          },
          "metadata": {},
          "execution_count": 13
        }
      ]
    },
    {
      "cell_type": "code",
      "source": [
        "fraud.Amount.describe()"
      ],
      "metadata": {
        "colab": {
          "base_uri": "https://localhost:8080/"
        },
        "id": "AjyeXIkA06wj",
        "outputId": "e8840cea-487f-437b-d4fa-e7f383ec5a65"
      },
      "execution_count": 14,
      "outputs": [
        {
          "output_type": "execute_result",
          "data": {
            "text/plain": [
              "count     356.000000\n",
              "mean      112.005000\n",
              "std       228.517058\n",
              "min         0.000000\n",
              "25%         1.000000\n",
              "50%         9.905000\n",
              "75%       102.125000\n",
              "max      1809.680000\n",
              "Name: Amount, dtype: float64"
            ]
          },
          "metadata": {},
          "execution_count": 14
        }
      ]
    },
    {
      "cell_type": "code",
      "source": [
        "# Compare the values for both transactions\n",
        "credit_card_data.groupby('Class').mean()"
      ],
      "metadata": {
        "colab": {
          "base_uri": "https://localhost:8080/",
          "height": 237
        },
        "id": "3FkJ9Scs1IdS",
        "outputId": "f3980f22-6f0d-4c4f-a1cf-2b46b2cb6a83"
      },
      "execution_count": 15,
      "outputs": [
        {
          "output_type": "execute_result",
          "data": {
            "text/plain": [
              "               Time        V1        V2        V3        V4        V5  \\\n",
              "Class                                                                   \n",
              "0.0    58176.368921 -0.185441  0.042134  0.569680  0.124500 -0.191311   \n",
              "1.0    55968.873596 -6.057284  4.419181 -8.006879  4.902106 -4.402531   \n",
              "\n",
              "             V6        V7        V8        V9  ...       V20       V21  \\\n",
              "Class                                          ...                       \n",
              "0.0    0.067597 -0.076600  0.038895  0.027550  ...  0.032755 -0.036010   \n",
              "1.0   -1.445960 -7.057336  0.778068 -2.884994  ...  0.413879  0.767732   \n",
              "\n",
              "            V22      V23       V24       V25       V26       V27       V28  \\\n",
              "Class                                                                        \n",
              "0.0   -0.096158 -0.02534  0.010510  0.103687  0.014082  0.001871  0.002442   \n",
              "1.0   -0.017997 -0.04505 -0.073773  0.080805  0.036841  0.181541  0.044143   \n",
              "\n",
              "           Amount  \n",
              "Class              \n",
              "0.0     86.929842  \n",
              "1.0    112.005000  \n",
              "\n",
              "[2 rows x 30 columns]"
            ],
            "text/html": [
              "\n",
              "  <div id=\"df-5d7e32a6-b92c-480c-acdc-f78ee7145dc3\">\n",
              "    <div class=\"colab-df-container\">\n",
              "      <div>\n",
              "<style scoped>\n",
              "    .dataframe tbody tr th:only-of-type {\n",
              "        vertical-align: middle;\n",
              "    }\n",
              "\n",
              "    .dataframe tbody tr th {\n",
              "        vertical-align: top;\n",
              "    }\n",
              "\n",
              "    .dataframe thead th {\n",
              "        text-align: right;\n",
              "    }\n",
              "</style>\n",
              "<table border=\"1\" class=\"dataframe\">\n",
              "  <thead>\n",
              "    <tr style=\"text-align: right;\">\n",
              "      <th></th>\n",
              "      <th>Time</th>\n",
              "      <th>V1</th>\n",
              "      <th>V2</th>\n",
              "      <th>V3</th>\n",
              "      <th>V4</th>\n",
              "      <th>V5</th>\n",
              "      <th>V6</th>\n",
              "      <th>V7</th>\n",
              "      <th>V8</th>\n",
              "      <th>V9</th>\n",
              "      <th>...</th>\n",
              "      <th>V20</th>\n",
              "      <th>V21</th>\n",
              "      <th>V22</th>\n",
              "      <th>V23</th>\n",
              "      <th>V24</th>\n",
              "      <th>V25</th>\n",
              "      <th>V26</th>\n",
              "      <th>V27</th>\n",
              "      <th>V28</th>\n",
              "      <th>Amount</th>\n",
              "    </tr>\n",
              "    <tr>\n",
              "      <th>Class</th>\n",
              "      <th></th>\n",
              "      <th></th>\n",
              "      <th></th>\n",
              "      <th></th>\n",
              "      <th></th>\n",
              "      <th></th>\n",
              "      <th></th>\n",
              "      <th></th>\n",
              "      <th></th>\n",
              "      <th></th>\n",
              "      <th></th>\n",
              "      <th></th>\n",
              "      <th></th>\n",
              "      <th></th>\n",
              "      <th></th>\n",
              "      <th></th>\n",
              "      <th></th>\n",
              "      <th></th>\n",
              "      <th></th>\n",
              "      <th></th>\n",
              "      <th></th>\n",
              "    </tr>\n",
              "  </thead>\n",
              "  <tbody>\n",
              "    <tr>\n",
              "      <th>0.0</th>\n",
              "      <td>58176.368921</td>\n",
              "      <td>-0.185441</td>\n",
              "      <td>0.042134</td>\n",
              "      <td>0.569680</td>\n",
              "      <td>0.124500</td>\n",
              "      <td>-0.191311</td>\n",
              "      <td>0.067597</td>\n",
              "      <td>-0.076600</td>\n",
              "      <td>0.038895</td>\n",
              "      <td>0.027550</td>\n",
              "      <td>...</td>\n",
              "      <td>0.032755</td>\n",
              "      <td>-0.036010</td>\n",
              "      <td>-0.096158</td>\n",
              "      <td>-0.02534</td>\n",
              "      <td>0.010510</td>\n",
              "      <td>0.103687</td>\n",
              "      <td>0.014082</td>\n",
              "      <td>0.001871</td>\n",
              "      <td>0.002442</td>\n",
              "      <td>86.929842</td>\n",
              "    </tr>\n",
              "    <tr>\n",
              "      <th>1.0</th>\n",
              "      <td>55968.873596</td>\n",
              "      <td>-6.057284</td>\n",
              "      <td>4.419181</td>\n",
              "      <td>-8.006879</td>\n",
              "      <td>4.902106</td>\n",
              "      <td>-4.402531</td>\n",
              "      <td>-1.445960</td>\n",
              "      <td>-7.057336</td>\n",
              "      <td>0.778068</td>\n",
              "      <td>-2.884994</td>\n",
              "      <td>...</td>\n",
              "      <td>0.413879</td>\n",
              "      <td>0.767732</td>\n",
              "      <td>-0.017997</td>\n",
              "      <td>-0.04505</td>\n",
              "      <td>-0.073773</td>\n",
              "      <td>0.080805</td>\n",
              "      <td>0.036841</td>\n",
              "      <td>0.181541</td>\n",
              "      <td>0.044143</td>\n",
              "      <td>112.005000</td>\n",
              "    </tr>\n",
              "  </tbody>\n",
              "</table>\n",
              "<p>2 rows × 30 columns</p>\n",
              "</div>\n",
              "      <button class=\"colab-df-convert\" onclick=\"convertToInteractive('df-5d7e32a6-b92c-480c-acdc-f78ee7145dc3')\"\n",
              "              title=\"Convert this dataframe to an interactive table.\"\n",
              "              style=\"display:none;\">\n",
              "        \n",
              "  <svg xmlns=\"http://www.w3.org/2000/svg\" height=\"24px\"viewBox=\"0 0 24 24\"\n",
              "       width=\"24px\">\n",
              "    <path d=\"M0 0h24v24H0V0z\" fill=\"none\"/>\n",
              "    <path d=\"M18.56 5.44l.94 2.06.94-2.06 2.06-.94-2.06-.94-.94-2.06-.94 2.06-2.06.94zm-11 1L8.5 8.5l.94-2.06 2.06-.94-2.06-.94L8.5 2.5l-.94 2.06-2.06.94zm10 10l.94 2.06.94-2.06 2.06-.94-2.06-.94-.94-2.06-.94 2.06-2.06.94z\"/><path d=\"M17.41 7.96l-1.37-1.37c-.4-.4-.92-.59-1.43-.59-.52 0-1.04.2-1.43.59L10.3 9.45l-7.72 7.72c-.78.78-.78 2.05 0 2.83L4 21.41c.39.39.9.59 1.41.59.51 0 1.02-.2 1.41-.59l7.78-7.78 2.81-2.81c.8-.78.8-2.07 0-2.86zM5.41 20L4 18.59l7.72-7.72 1.47 1.35L5.41 20z\"/>\n",
              "  </svg>\n",
              "      </button>\n",
              "      \n",
              "  <style>\n",
              "    .colab-df-container {\n",
              "      display:flex;\n",
              "      flex-wrap:wrap;\n",
              "      gap: 12px;\n",
              "    }\n",
              "\n",
              "    .colab-df-convert {\n",
              "      background-color: #E8F0FE;\n",
              "      border: none;\n",
              "      border-radius: 50%;\n",
              "      cursor: pointer;\n",
              "      display: none;\n",
              "      fill: #1967D2;\n",
              "      height: 32px;\n",
              "      padding: 0 0 0 0;\n",
              "      width: 32px;\n",
              "    }\n",
              "\n",
              "    .colab-df-convert:hover {\n",
              "      background-color: #E2EBFA;\n",
              "      box-shadow: 0px 1px 2px rgba(60, 64, 67, 0.3), 0px 1px 3px 1px rgba(60, 64, 67, 0.15);\n",
              "      fill: #174EA6;\n",
              "    }\n",
              "\n",
              "    [theme=dark] .colab-df-convert {\n",
              "      background-color: #3B4455;\n",
              "      fill: #D2E3FC;\n",
              "    }\n",
              "\n",
              "    [theme=dark] .colab-df-convert:hover {\n",
              "      background-color: #434B5C;\n",
              "      box-shadow: 0px 1px 3px 1px rgba(0, 0, 0, 0.15);\n",
              "      filter: drop-shadow(0px 1px 2px rgba(0, 0, 0, 0.3));\n",
              "      fill: #FFFFFF;\n",
              "    }\n",
              "  </style>\n",
              "\n",
              "      <script>\n",
              "        const buttonEl =\n",
              "          document.querySelector('#df-5d7e32a6-b92c-480c-acdc-f78ee7145dc3 button.colab-df-convert');\n",
              "        buttonEl.style.display =\n",
              "          google.colab.kernel.accessAllowed ? 'block' : 'none';\n",
              "\n",
              "        async function convertToInteractive(key) {\n",
              "          const element = document.querySelector('#df-5d7e32a6-b92c-480c-acdc-f78ee7145dc3');\n",
              "          const dataTable =\n",
              "            await google.colab.kernel.invokeFunction('convertToInteractive',\n",
              "                                                     [key], {});\n",
              "          if (!dataTable) return;\n",
              "\n",
              "          const docLinkHtml = 'Like what you see? Visit the ' +\n",
              "            '<a target=\"_blank\" href=https://colab.research.google.com/notebooks/data_table.ipynb>data table notebook</a>'\n",
              "            + ' to learn more about interactive tables.';\n",
              "          element.innerHTML = '';\n",
              "          dataTable['output_type'] = 'display_data';\n",
              "          await google.colab.output.renderOutput(dataTable, element);\n",
              "          const docLink = document.createElement('div');\n",
              "          docLink.innerHTML = docLinkHtml;\n",
              "          element.appendChild(docLink);\n",
              "        }\n",
              "      </script>\n",
              "    </div>\n",
              "  </div>\n",
              "  "
            ]
          },
          "metadata": {},
          "execution_count": 15
        }
      ]
    },
    {
      "cell_type": "markdown",
      "source": [
        "Under Sampling"
      ],
      "metadata": {
        "id": "-z8Mw9H910GJ"
      }
    },
    {
      "cell_type": "markdown",
      "source": [
        "Build a sample dataset containing similar distribution of normal transaction and fraudulent transaction"
      ],
      "metadata": {
        "id": "3EirTFZi13G6"
      }
    },
    {
      "cell_type": "markdown",
      "source": [
        "Number of fraudulent transactions -> 492"
      ],
      "metadata": {
        "id": "1-Z8aoCn2IgJ"
      }
    },
    {
      "cell_type": "code",
      "source": [
        "legit_sample = legit.sample(n=492)"
      ],
      "metadata": {
        "id": "avi8G_QF2GG7"
      },
      "execution_count": 16,
      "outputs": []
    },
    {
      "cell_type": "markdown",
      "source": [
        "Concatenating two DataFrames"
      ],
      "metadata": {
        "id": "YhQB5iPt2Yx9"
      }
    },
    {
      "cell_type": "code",
      "source": [
        "new_dataset = pd.concat([legit_sample, fraud], axis = 0)"
      ],
      "metadata": {
        "id": "mtcYr7w72X0f"
      },
      "execution_count": 17,
      "outputs": []
    },
    {
      "cell_type": "code",
      "source": [
        "new_dataset.head()"
      ],
      "metadata": {
        "colab": {
          "base_uri": "https://localhost:8080/",
          "height": 300
        },
        "id": "YF-DBLk72oNK",
        "outputId": "12becb8d-5bf5-468f-f880-19853835717f"
      },
      "execution_count": 18,
      "outputs": [
        {
          "output_type": "execute_result",
          "data": {
            "text/plain": [
              "           Time        V1        V2        V3        V4        V5        V6  \\\n",
              "71582   54349.0  1.151517  0.022631  0.102991  1.134340  0.130690  0.513680   \n",
              "4303     3758.0 -0.812809 -0.019916  2.123482 -1.524092 -0.078559 -0.904809   \n",
              "123215  76848.0  1.335609  0.003761 -0.375240 -1.128282  0.160692 -0.505427   \n",
              "11718   20031.0  0.928848  0.170297  1.276773  2.714846  0.247682  2.136157   \n",
              "17849   28974.0 -0.576487  1.022091  1.628924 -0.374750  0.225452 -1.038670   \n",
              "\n",
              "              V7        V8        V9  ...       V21       V22       V23  \\\n",
              "71582  -0.118203  0.241516  0.258076  ... -0.103468 -0.173367 -0.153331   \n",
              "4303   -0.033882 -0.063047 -0.119061  ... -0.075700 -0.279277  0.103711   \n",
              "123215  0.160530 -0.210449  0.919300  ...  0.027873  0.326596 -0.230687   \n",
              "11718  -0.793681  0.595445  1.229087  ...  0.047688  0.700091  0.032208   \n",
              "17849   0.875820 -0.121828 -0.594405  ... -0.245282 -0.828794 -0.134234   \n",
              "\n",
              "             V24       V25       V26       V27       V28  Amount  Class  \n",
              "71582  -0.679949  0.681152 -0.284580  0.025597 -0.002064   17.68    0.0  \n",
              "4303    0.314355 -0.168617 -0.673335  0.036935  0.101520   25.00    0.0  \n",
              "123215 -0.711931  0.881474 -0.523183  0.063024  0.008331    1.00    0.0  \n",
              "11718  -0.981526  0.199405  0.237053  0.073797  0.009761   16.30    0.0  \n",
              "17849   0.337449  0.310325  0.011952 -0.076412 -0.014384    9.99    0.0  \n",
              "\n",
              "[5 rows x 31 columns]"
            ],
            "text/html": [
              "\n",
              "  <div id=\"df-abdc981f-ecd5-4c32-98ca-a4b719b8ec57\">\n",
              "    <div class=\"colab-df-container\">\n",
              "      <div>\n",
              "<style scoped>\n",
              "    .dataframe tbody tr th:only-of-type {\n",
              "        vertical-align: middle;\n",
              "    }\n",
              "\n",
              "    .dataframe tbody tr th {\n",
              "        vertical-align: top;\n",
              "    }\n",
              "\n",
              "    .dataframe thead th {\n",
              "        text-align: right;\n",
              "    }\n",
              "</style>\n",
              "<table border=\"1\" class=\"dataframe\">\n",
              "  <thead>\n",
              "    <tr style=\"text-align: right;\">\n",
              "      <th></th>\n",
              "      <th>Time</th>\n",
              "      <th>V1</th>\n",
              "      <th>V2</th>\n",
              "      <th>V3</th>\n",
              "      <th>V4</th>\n",
              "      <th>V5</th>\n",
              "      <th>V6</th>\n",
              "      <th>V7</th>\n",
              "      <th>V8</th>\n",
              "      <th>V9</th>\n",
              "      <th>...</th>\n",
              "      <th>V21</th>\n",
              "      <th>V22</th>\n",
              "      <th>V23</th>\n",
              "      <th>V24</th>\n",
              "      <th>V25</th>\n",
              "      <th>V26</th>\n",
              "      <th>V27</th>\n",
              "      <th>V28</th>\n",
              "      <th>Amount</th>\n",
              "      <th>Class</th>\n",
              "    </tr>\n",
              "  </thead>\n",
              "  <tbody>\n",
              "    <tr>\n",
              "      <th>71582</th>\n",
              "      <td>54349.0</td>\n",
              "      <td>1.151517</td>\n",
              "      <td>0.022631</td>\n",
              "      <td>0.102991</td>\n",
              "      <td>1.134340</td>\n",
              "      <td>0.130690</td>\n",
              "      <td>0.513680</td>\n",
              "      <td>-0.118203</td>\n",
              "      <td>0.241516</td>\n",
              "      <td>0.258076</td>\n",
              "      <td>...</td>\n",
              "      <td>-0.103468</td>\n",
              "      <td>-0.173367</td>\n",
              "      <td>-0.153331</td>\n",
              "      <td>-0.679949</td>\n",
              "      <td>0.681152</td>\n",
              "      <td>-0.284580</td>\n",
              "      <td>0.025597</td>\n",
              "      <td>-0.002064</td>\n",
              "      <td>17.68</td>\n",
              "      <td>0.0</td>\n",
              "    </tr>\n",
              "    <tr>\n",
              "      <th>4303</th>\n",
              "      <td>3758.0</td>\n",
              "      <td>-0.812809</td>\n",
              "      <td>-0.019916</td>\n",
              "      <td>2.123482</td>\n",
              "      <td>-1.524092</td>\n",
              "      <td>-0.078559</td>\n",
              "      <td>-0.904809</td>\n",
              "      <td>-0.033882</td>\n",
              "      <td>-0.063047</td>\n",
              "      <td>-0.119061</td>\n",
              "      <td>...</td>\n",
              "      <td>-0.075700</td>\n",
              "      <td>-0.279277</td>\n",
              "      <td>0.103711</td>\n",
              "      <td>0.314355</td>\n",
              "      <td>-0.168617</td>\n",
              "      <td>-0.673335</td>\n",
              "      <td>0.036935</td>\n",
              "      <td>0.101520</td>\n",
              "      <td>25.00</td>\n",
              "      <td>0.0</td>\n",
              "    </tr>\n",
              "    <tr>\n",
              "      <th>123215</th>\n",
              "      <td>76848.0</td>\n",
              "      <td>1.335609</td>\n",
              "      <td>0.003761</td>\n",
              "      <td>-0.375240</td>\n",
              "      <td>-1.128282</td>\n",
              "      <td>0.160692</td>\n",
              "      <td>-0.505427</td>\n",
              "      <td>0.160530</td>\n",
              "      <td>-0.210449</td>\n",
              "      <td>0.919300</td>\n",
              "      <td>...</td>\n",
              "      <td>0.027873</td>\n",
              "      <td>0.326596</td>\n",
              "      <td>-0.230687</td>\n",
              "      <td>-0.711931</td>\n",
              "      <td>0.881474</td>\n",
              "      <td>-0.523183</td>\n",
              "      <td>0.063024</td>\n",
              "      <td>0.008331</td>\n",
              "      <td>1.00</td>\n",
              "      <td>0.0</td>\n",
              "    </tr>\n",
              "    <tr>\n",
              "      <th>11718</th>\n",
              "      <td>20031.0</td>\n",
              "      <td>0.928848</td>\n",
              "      <td>0.170297</td>\n",
              "      <td>1.276773</td>\n",
              "      <td>2.714846</td>\n",
              "      <td>0.247682</td>\n",
              "      <td>2.136157</td>\n",
              "      <td>-0.793681</td>\n",
              "      <td>0.595445</td>\n",
              "      <td>1.229087</td>\n",
              "      <td>...</td>\n",
              "      <td>0.047688</td>\n",
              "      <td>0.700091</td>\n",
              "      <td>0.032208</td>\n",
              "      <td>-0.981526</td>\n",
              "      <td>0.199405</td>\n",
              "      <td>0.237053</td>\n",
              "      <td>0.073797</td>\n",
              "      <td>0.009761</td>\n",
              "      <td>16.30</td>\n",
              "      <td>0.0</td>\n",
              "    </tr>\n",
              "    <tr>\n",
              "      <th>17849</th>\n",
              "      <td>28974.0</td>\n",
              "      <td>-0.576487</td>\n",
              "      <td>1.022091</td>\n",
              "      <td>1.628924</td>\n",
              "      <td>-0.374750</td>\n",
              "      <td>0.225452</td>\n",
              "      <td>-1.038670</td>\n",
              "      <td>0.875820</td>\n",
              "      <td>-0.121828</td>\n",
              "      <td>-0.594405</td>\n",
              "      <td>...</td>\n",
              "      <td>-0.245282</td>\n",
              "      <td>-0.828794</td>\n",
              "      <td>-0.134234</td>\n",
              "      <td>0.337449</td>\n",
              "      <td>0.310325</td>\n",
              "      <td>0.011952</td>\n",
              "      <td>-0.076412</td>\n",
              "      <td>-0.014384</td>\n",
              "      <td>9.99</td>\n",
              "      <td>0.0</td>\n",
              "    </tr>\n",
              "  </tbody>\n",
              "</table>\n",
              "<p>5 rows × 31 columns</p>\n",
              "</div>\n",
              "      <button class=\"colab-df-convert\" onclick=\"convertToInteractive('df-abdc981f-ecd5-4c32-98ca-a4b719b8ec57')\"\n",
              "              title=\"Convert this dataframe to an interactive table.\"\n",
              "              style=\"display:none;\">\n",
              "        \n",
              "  <svg xmlns=\"http://www.w3.org/2000/svg\" height=\"24px\"viewBox=\"0 0 24 24\"\n",
              "       width=\"24px\">\n",
              "    <path d=\"M0 0h24v24H0V0z\" fill=\"none\"/>\n",
              "    <path d=\"M18.56 5.44l.94 2.06.94-2.06 2.06-.94-2.06-.94-.94-2.06-.94 2.06-2.06.94zm-11 1L8.5 8.5l.94-2.06 2.06-.94-2.06-.94L8.5 2.5l-.94 2.06-2.06.94zm10 10l.94 2.06.94-2.06 2.06-.94-2.06-.94-.94-2.06-.94 2.06-2.06.94z\"/><path d=\"M17.41 7.96l-1.37-1.37c-.4-.4-.92-.59-1.43-.59-.52 0-1.04.2-1.43.59L10.3 9.45l-7.72 7.72c-.78.78-.78 2.05 0 2.83L4 21.41c.39.39.9.59 1.41.59.51 0 1.02-.2 1.41-.59l7.78-7.78 2.81-2.81c.8-.78.8-2.07 0-2.86zM5.41 20L4 18.59l7.72-7.72 1.47 1.35L5.41 20z\"/>\n",
              "  </svg>\n",
              "      </button>\n",
              "      \n",
              "  <style>\n",
              "    .colab-df-container {\n",
              "      display:flex;\n",
              "      flex-wrap:wrap;\n",
              "      gap: 12px;\n",
              "    }\n",
              "\n",
              "    .colab-df-convert {\n",
              "      background-color: #E8F0FE;\n",
              "      border: none;\n",
              "      border-radius: 50%;\n",
              "      cursor: pointer;\n",
              "      display: none;\n",
              "      fill: #1967D2;\n",
              "      height: 32px;\n",
              "      padding: 0 0 0 0;\n",
              "      width: 32px;\n",
              "    }\n",
              "\n",
              "    .colab-df-convert:hover {\n",
              "      background-color: #E2EBFA;\n",
              "      box-shadow: 0px 1px 2px rgba(60, 64, 67, 0.3), 0px 1px 3px 1px rgba(60, 64, 67, 0.15);\n",
              "      fill: #174EA6;\n",
              "    }\n",
              "\n",
              "    [theme=dark] .colab-df-convert {\n",
              "      background-color: #3B4455;\n",
              "      fill: #D2E3FC;\n",
              "    }\n",
              "\n",
              "    [theme=dark] .colab-df-convert:hover {\n",
              "      background-color: #434B5C;\n",
              "      box-shadow: 0px 1px 3px 1px rgba(0, 0, 0, 0.15);\n",
              "      filter: drop-shadow(0px 1px 2px rgba(0, 0, 0, 0.3));\n",
              "      fill: #FFFFFF;\n",
              "    }\n",
              "  </style>\n",
              "\n",
              "      <script>\n",
              "        const buttonEl =\n",
              "          document.querySelector('#df-abdc981f-ecd5-4c32-98ca-a4b719b8ec57 button.colab-df-convert');\n",
              "        buttonEl.style.display =\n",
              "          google.colab.kernel.accessAllowed ? 'block' : 'none';\n",
              "\n",
              "        async function convertToInteractive(key) {\n",
              "          const element = document.querySelector('#df-abdc981f-ecd5-4c32-98ca-a4b719b8ec57');\n",
              "          const dataTable =\n",
              "            await google.colab.kernel.invokeFunction('convertToInteractive',\n",
              "                                                     [key], {});\n",
              "          if (!dataTable) return;\n",
              "\n",
              "          const docLinkHtml = 'Like what you see? Visit the ' +\n",
              "            '<a target=\"_blank\" href=https://colab.research.google.com/notebooks/data_table.ipynb>data table notebook</a>'\n",
              "            + ' to learn more about interactive tables.';\n",
              "          element.innerHTML = '';\n",
              "          dataTable['output_type'] = 'display_data';\n",
              "          await google.colab.output.renderOutput(dataTable, element);\n",
              "          const docLink = document.createElement('div');\n",
              "          docLink.innerHTML = docLinkHtml;\n",
              "          element.appendChild(docLink);\n",
              "        }\n",
              "      </script>\n",
              "    </div>\n",
              "  </div>\n",
              "  "
            ]
          },
          "metadata": {},
          "execution_count": 18
        }
      ]
    },
    {
      "cell_type": "code",
      "source": [
        "new_dataset.tail()"
      ],
      "metadata": {
        "colab": {
          "base_uri": "https://localhost:8080/",
          "height": 300
        },
        "id": "4Kf9NTn_2v3E",
        "outputId": "a4ac97b7-f77f-4054-e516-a35612e4fa11"
      },
      "execution_count": 19,
      "outputs": [
        {
          "output_type": "execute_result",
          "data": {
            "text/plain": [
              "            Time        V1        V2        V3        V4        V5        V6  \\\n",
              "156990  109298.0 -1.000611  3.346850 -5.534491  6.835802 -0.299803  0.095951   \n",
              "157585  110087.0  1.934946  0.650678 -0.286957  3.987828  0.316052 -0.099449   \n",
              "157868  110547.0 -1.532810  2.232752 -5.923100  3.386708 -0.153443 -1.419748   \n",
              "157871  110552.0 -2.450367  2.107729 -5.140663  1.411304 -1.690780 -0.736427   \n",
              "157918  110617.0 -1.101035 -1.674928 -0.573388  5.617556  0.765556  0.440607   \n",
              "\n",
              "              V7        V8        V9  ...       V21       V22       V23  \\\n",
              "156990 -2.440419  1.286301 -2.766438  ...  0.439757 -0.694099  0.299660   \n",
              "157585 -0.021483 -0.172327  0.508730  ... -0.173602 -0.190974  0.219976   \n",
              "157868 -3.878576  1.444656 -1.465542  ...  0.632505 -0.070838 -0.490291   \n",
              "157871 -3.657946  1.944906 -0.788388  ...  0.800538  0.364617  0.233608   \n",
              "157918  1.934740 -1.019788 -0.193244  ... -0.412526 -0.208823  0.344833   \n",
              "\n",
              "             V24       V25       V26       V27       V28  Amount  Class  \n",
              "156990 -0.657601  0.101648  0.430457  0.824685  0.326952  186.13    1.0  \n",
              "157585 -0.216597 -0.136692 -0.129954 -0.050077 -0.051082    1.00    1.0  \n",
              "157868 -0.359983  0.050678  1.095671  0.471741 -0.106667    0.76    1.0  \n",
              "157871 -0.282078 -0.320311  0.492920  0.359976 -0.115471   80.22    1.0  \n",
              "157918  1.091435 -0.686513  0.075809  0.033865 -0.832855  635.10    1.0  \n",
              "\n",
              "[5 rows x 31 columns]"
            ],
            "text/html": [
              "\n",
              "  <div id=\"df-afa7fcaf-d37b-4868-ac2e-942c5e7107bc\">\n",
              "    <div class=\"colab-df-container\">\n",
              "      <div>\n",
              "<style scoped>\n",
              "    .dataframe tbody tr th:only-of-type {\n",
              "        vertical-align: middle;\n",
              "    }\n",
              "\n",
              "    .dataframe tbody tr th {\n",
              "        vertical-align: top;\n",
              "    }\n",
              "\n",
              "    .dataframe thead th {\n",
              "        text-align: right;\n",
              "    }\n",
              "</style>\n",
              "<table border=\"1\" class=\"dataframe\">\n",
              "  <thead>\n",
              "    <tr style=\"text-align: right;\">\n",
              "      <th></th>\n",
              "      <th>Time</th>\n",
              "      <th>V1</th>\n",
              "      <th>V2</th>\n",
              "      <th>V3</th>\n",
              "      <th>V4</th>\n",
              "      <th>V5</th>\n",
              "      <th>V6</th>\n",
              "      <th>V7</th>\n",
              "      <th>V8</th>\n",
              "      <th>V9</th>\n",
              "      <th>...</th>\n",
              "      <th>V21</th>\n",
              "      <th>V22</th>\n",
              "      <th>V23</th>\n",
              "      <th>V24</th>\n",
              "      <th>V25</th>\n",
              "      <th>V26</th>\n",
              "      <th>V27</th>\n",
              "      <th>V28</th>\n",
              "      <th>Amount</th>\n",
              "      <th>Class</th>\n",
              "    </tr>\n",
              "  </thead>\n",
              "  <tbody>\n",
              "    <tr>\n",
              "      <th>156990</th>\n",
              "      <td>109298.0</td>\n",
              "      <td>-1.000611</td>\n",
              "      <td>3.346850</td>\n",
              "      <td>-5.534491</td>\n",
              "      <td>6.835802</td>\n",
              "      <td>-0.299803</td>\n",
              "      <td>0.095951</td>\n",
              "      <td>-2.440419</td>\n",
              "      <td>1.286301</td>\n",
              "      <td>-2.766438</td>\n",
              "      <td>...</td>\n",
              "      <td>0.439757</td>\n",
              "      <td>-0.694099</td>\n",
              "      <td>0.299660</td>\n",
              "      <td>-0.657601</td>\n",
              "      <td>0.101648</td>\n",
              "      <td>0.430457</td>\n",
              "      <td>0.824685</td>\n",
              "      <td>0.326952</td>\n",
              "      <td>186.13</td>\n",
              "      <td>1.0</td>\n",
              "    </tr>\n",
              "    <tr>\n",
              "      <th>157585</th>\n",
              "      <td>110087.0</td>\n",
              "      <td>1.934946</td>\n",
              "      <td>0.650678</td>\n",
              "      <td>-0.286957</td>\n",
              "      <td>3.987828</td>\n",
              "      <td>0.316052</td>\n",
              "      <td>-0.099449</td>\n",
              "      <td>-0.021483</td>\n",
              "      <td>-0.172327</td>\n",
              "      <td>0.508730</td>\n",
              "      <td>...</td>\n",
              "      <td>-0.173602</td>\n",
              "      <td>-0.190974</td>\n",
              "      <td>0.219976</td>\n",
              "      <td>-0.216597</td>\n",
              "      <td>-0.136692</td>\n",
              "      <td>-0.129954</td>\n",
              "      <td>-0.050077</td>\n",
              "      <td>-0.051082</td>\n",
              "      <td>1.00</td>\n",
              "      <td>1.0</td>\n",
              "    </tr>\n",
              "    <tr>\n",
              "      <th>157868</th>\n",
              "      <td>110547.0</td>\n",
              "      <td>-1.532810</td>\n",
              "      <td>2.232752</td>\n",
              "      <td>-5.923100</td>\n",
              "      <td>3.386708</td>\n",
              "      <td>-0.153443</td>\n",
              "      <td>-1.419748</td>\n",
              "      <td>-3.878576</td>\n",
              "      <td>1.444656</td>\n",
              "      <td>-1.465542</td>\n",
              "      <td>...</td>\n",
              "      <td>0.632505</td>\n",
              "      <td>-0.070838</td>\n",
              "      <td>-0.490291</td>\n",
              "      <td>-0.359983</td>\n",
              "      <td>0.050678</td>\n",
              "      <td>1.095671</td>\n",
              "      <td>0.471741</td>\n",
              "      <td>-0.106667</td>\n",
              "      <td>0.76</td>\n",
              "      <td>1.0</td>\n",
              "    </tr>\n",
              "    <tr>\n",
              "      <th>157871</th>\n",
              "      <td>110552.0</td>\n",
              "      <td>-2.450367</td>\n",
              "      <td>2.107729</td>\n",
              "      <td>-5.140663</td>\n",
              "      <td>1.411304</td>\n",
              "      <td>-1.690780</td>\n",
              "      <td>-0.736427</td>\n",
              "      <td>-3.657946</td>\n",
              "      <td>1.944906</td>\n",
              "      <td>-0.788388</td>\n",
              "      <td>...</td>\n",
              "      <td>0.800538</td>\n",
              "      <td>0.364617</td>\n",
              "      <td>0.233608</td>\n",
              "      <td>-0.282078</td>\n",
              "      <td>-0.320311</td>\n",
              "      <td>0.492920</td>\n",
              "      <td>0.359976</td>\n",
              "      <td>-0.115471</td>\n",
              "      <td>80.22</td>\n",
              "      <td>1.0</td>\n",
              "    </tr>\n",
              "    <tr>\n",
              "      <th>157918</th>\n",
              "      <td>110617.0</td>\n",
              "      <td>-1.101035</td>\n",
              "      <td>-1.674928</td>\n",
              "      <td>-0.573388</td>\n",
              "      <td>5.617556</td>\n",
              "      <td>0.765556</td>\n",
              "      <td>0.440607</td>\n",
              "      <td>1.934740</td>\n",
              "      <td>-1.019788</td>\n",
              "      <td>-0.193244</td>\n",
              "      <td>...</td>\n",
              "      <td>-0.412526</td>\n",
              "      <td>-0.208823</td>\n",
              "      <td>0.344833</td>\n",
              "      <td>1.091435</td>\n",
              "      <td>-0.686513</td>\n",
              "      <td>0.075809</td>\n",
              "      <td>0.033865</td>\n",
              "      <td>-0.832855</td>\n",
              "      <td>635.10</td>\n",
              "      <td>1.0</td>\n",
              "    </tr>\n",
              "  </tbody>\n",
              "</table>\n",
              "<p>5 rows × 31 columns</p>\n",
              "</div>\n",
              "      <button class=\"colab-df-convert\" onclick=\"convertToInteractive('df-afa7fcaf-d37b-4868-ac2e-942c5e7107bc')\"\n",
              "              title=\"Convert this dataframe to an interactive table.\"\n",
              "              style=\"display:none;\">\n",
              "        \n",
              "  <svg xmlns=\"http://www.w3.org/2000/svg\" height=\"24px\"viewBox=\"0 0 24 24\"\n",
              "       width=\"24px\">\n",
              "    <path d=\"M0 0h24v24H0V0z\" fill=\"none\"/>\n",
              "    <path d=\"M18.56 5.44l.94 2.06.94-2.06 2.06-.94-2.06-.94-.94-2.06-.94 2.06-2.06.94zm-11 1L8.5 8.5l.94-2.06 2.06-.94-2.06-.94L8.5 2.5l-.94 2.06-2.06.94zm10 10l.94 2.06.94-2.06 2.06-.94-2.06-.94-.94-2.06-.94 2.06-2.06.94z\"/><path d=\"M17.41 7.96l-1.37-1.37c-.4-.4-.92-.59-1.43-.59-.52 0-1.04.2-1.43.59L10.3 9.45l-7.72 7.72c-.78.78-.78 2.05 0 2.83L4 21.41c.39.39.9.59 1.41.59.51 0 1.02-.2 1.41-.59l7.78-7.78 2.81-2.81c.8-.78.8-2.07 0-2.86zM5.41 20L4 18.59l7.72-7.72 1.47 1.35L5.41 20z\"/>\n",
              "  </svg>\n",
              "      </button>\n",
              "      \n",
              "  <style>\n",
              "    .colab-df-container {\n",
              "      display:flex;\n",
              "      flex-wrap:wrap;\n",
              "      gap: 12px;\n",
              "    }\n",
              "\n",
              "    .colab-df-convert {\n",
              "      background-color: #E8F0FE;\n",
              "      border: none;\n",
              "      border-radius: 50%;\n",
              "      cursor: pointer;\n",
              "      display: none;\n",
              "      fill: #1967D2;\n",
              "      height: 32px;\n",
              "      padding: 0 0 0 0;\n",
              "      width: 32px;\n",
              "    }\n",
              "\n",
              "    .colab-df-convert:hover {\n",
              "      background-color: #E2EBFA;\n",
              "      box-shadow: 0px 1px 2px rgba(60, 64, 67, 0.3), 0px 1px 3px 1px rgba(60, 64, 67, 0.15);\n",
              "      fill: #174EA6;\n",
              "    }\n",
              "\n",
              "    [theme=dark] .colab-df-convert {\n",
              "      background-color: #3B4455;\n",
              "      fill: #D2E3FC;\n",
              "    }\n",
              "\n",
              "    [theme=dark] .colab-df-convert:hover {\n",
              "      background-color: #434B5C;\n",
              "      box-shadow: 0px 1px 3px 1px rgba(0, 0, 0, 0.15);\n",
              "      filter: drop-shadow(0px 1px 2px rgba(0, 0, 0, 0.3));\n",
              "      fill: #FFFFFF;\n",
              "    }\n",
              "  </style>\n",
              "\n",
              "      <script>\n",
              "        const buttonEl =\n",
              "          document.querySelector('#df-afa7fcaf-d37b-4868-ac2e-942c5e7107bc button.colab-df-convert');\n",
              "        buttonEl.style.display =\n",
              "          google.colab.kernel.accessAllowed ? 'block' : 'none';\n",
              "\n",
              "        async function convertToInteractive(key) {\n",
              "          const element = document.querySelector('#df-afa7fcaf-d37b-4868-ac2e-942c5e7107bc');\n",
              "          const dataTable =\n",
              "            await google.colab.kernel.invokeFunction('convertToInteractive',\n",
              "                                                     [key], {});\n",
              "          if (!dataTable) return;\n",
              "\n",
              "          const docLinkHtml = 'Like what you see? Visit the ' +\n",
              "            '<a target=\"_blank\" href=https://colab.research.google.com/notebooks/data_table.ipynb>data table notebook</a>'\n",
              "            + ' to learn more about interactive tables.';\n",
              "          element.innerHTML = '';\n",
              "          dataTable['output_type'] = 'display_data';\n",
              "          await google.colab.output.renderOutput(dataTable, element);\n",
              "          const docLink = document.createElement('div');\n",
              "          docLink.innerHTML = docLinkHtml;\n",
              "          element.appendChild(docLink);\n",
              "        }\n",
              "      </script>\n",
              "    </div>\n",
              "  </div>\n",
              "  "
            ]
          },
          "metadata": {},
          "execution_count": 19
        }
      ]
    },
    {
      "cell_type": "code",
      "source": [
        "new_dataset['Class'].value_counts()"
      ],
      "metadata": {
        "colab": {
          "base_uri": "https://localhost:8080/"
        },
        "id": "TP8he0rP2zC9",
        "outputId": "7b72b194-b92c-46e7-bfb8-0304c57752b7"
      },
      "execution_count": 20,
      "outputs": [
        {
          "output_type": "execute_result",
          "data": {
            "text/plain": [
              "0.0    492\n",
              "1.0    356\n",
              "Name: Class, dtype: int64"
            ]
          },
          "metadata": {},
          "execution_count": 20
        }
      ]
    },
    {
      "cell_type": "code",
      "source": [
        "new_dataset.groupby('Class').mean()"
      ],
      "metadata": {
        "colab": {
          "base_uri": "https://localhost:8080/",
          "height": 237
        },
        "id": "cozZPr3B28v6",
        "outputId": "41a26940-5807-4fd4-add8-41d73cff2e55"
      },
      "execution_count": 21,
      "outputs": [
        {
          "output_type": "execute_result",
          "data": {
            "text/plain": [
              "               Time        V1        V2        V3        V4        V5  \\\n",
              "Class                                                                   \n",
              "0.0    59237.898374 -0.327173  0.072162  0.546865  0.156498 -0.293293   \n",
              "1.0    55968.873596 -6.057284  4.419181 -8.006879  4.902106 -4.402531   \n",
              "\n",
              "             V6        V7        V8        V9  ...       V20       V21  \\\n",
              "Class                                          ...                       \n",
              "0.0   -0.000368 -0.112603  0.114934  0.039887  ...  0.026831 -0.024657   \n",
              "1.0   -1.445960 -7.057336  0.778068 -2.884994  ...  0.413879  0.767732   \n",
              "\n",
              "            V22       V23       V24       V25       V26       V27       V28  \\\n",
              "Class                                                                         \n",
              "0.0   -0.049319 -0.000593  0.029381  0.075222  0.012766  0.014944 -0.003664   \n",
              "1.0   -0.017997 -0.045050 -0.073773  0.080805  0.036841  0.181541  0.044143   \n",
              "\n",
              "           Amount  \n",
              "Class              \n",
              "0.0     90.449024  \n",
              "1.0    112.005000  \n",
              "\n",
              "[2 rows x 30 columns]"
            ],
            "text/html": [
              "\n",
              "  <div id=\"df-46994d17-e841-4842-8483-8a7d8f938cfe\">\n",
              "    <div class=\"colab-df-container\">\n",
              "      <div>\n",
              "<style scoped>\n",
              "    .dataframe tbody tr th:only-of-type {\n",
              "        vertical-align: middle;\n",
              "    }\n",
              "\n",
              "    .dataframe tbody tr th {\n",
              "        vertical-align: top;\n",
              "    }\n",
              "\n",
              "    .dataframe thead th {\n",
              "        text-align: right;\n",
              "    }\n",
              "</style>\n",
              "<table border=\"1\" class=\"dataframe\">\n",
              "  <thead>\n",
              "    <tr style=\"text-align: right;\">\n",
              "      <th></th>\n",
              "      <th>Time</th>\n",
              "      <th>V1</th>\n",
              "      <th>V2</th>\n",
              "      <th>V3</th>\n",
              "      <th>V4</th>\n",
              "      <th>V5</th>\n",
              "      <th>V6</th>\n",
              "      <th>V7</th>\n",
              "      <th>V8</th>\n",
              "      <th>V9</th>\n",
              "      <th>...</th>\n",
              "      <th>V20</th>\n",
              "      <th>V21</th>\n",
              "      <th>V22</th>\n",
              "      <th>V23</th>\n",
              "      <th>V24</th>\n",
              "      <th>V25</th>\n",
              "      <th>V26</th>\n",
              "      <th>V27</th>\n",
              "      <th>V28</th>\n",
              "      <th>Amount</th>\n",
              "    </tr>\n",
              "    <tr>\n",
              "      <th>Class</th>\n",
              "      <th></th>\n",
              "      <th></th>\n",
              "      <th></th>\n",
              "      <th></th>\n",
              "      <th></th>\n",
              "      <th></th>\n",
              "      <th></th>\n",
              "      <th></th>\n",
              "      <th></th>\n",
              "      <th></th>\n",
              "      <th></th>\n",
              "      <th></th>\n",
              "      <th></th>\n",
              "      <th></th>\n",
              "      <th></th>\n",
              "      <th></th>\n",
              "      <th></th>\n",
              "      <th></th>\n",
              "      <th></th>\n",
              "      <th></th>\n",
              "      <th></th>\n",
              "    </tr>\n",
              "  </thead>\n",
              "  <tbody>\n",
              "    <tr>\n",
              "      <th>0.0</th>\n",
              "      <td>59237.898374</td>\n",
              "      <td>-0.327173</td>\n",
              "      <td>0.072162</td>\n",
              "      <td>0.546865</td>\n",
              "      <td>0.156498</td>\n",
              "      <td>-0.293293</td>\n",
              "      <td>-0.000368</td>\n",
              "      <td>-0.112603</td>\n",
              "      <td>0.114934</td>\n",
              "      <td>0.039887</td>\n",
              "      <td>...</td>\n",
              "      <td>0.026831</td>\n",
              "      <td>-0.024657</td>\n",
              "      <td>-0.049319</td>\n",
              "      <td>-0.000593</td>\n",
              "      <td>0.029381</td>\n",
              "      <td>0.075222</td>\n",
              "      <td>0.012766</td>\n",
              "      <td>0.014944</td>\n",
              "      <td>-0.003664</td>\n",
              "      <td>90.449024</td>\n",
              "    </tr>\n",
              "    <tr>\n",
              "      <th>1.0</th>\n",
              "      <td>55968.873596</td>\n",
              "      <td>-6.057284</td>\n",
              "      <td>4.419181</td>\n",
              "      <td>-8.006879</td>\n",
              "      <td>4.902106</td>\n",
              "      <td>-4.402531</td>\n",
              "      <td>-1.445960</td>\n",
              "      <td>-7.057336</td>\n",
              "      <td>0.778068</td>\n",
              "      <td>-2.884994</td>\n",
              "      <td>...</td>\n",
              "      <td>0.413879</td>\n",
              "      <td>0.767732</td>\n",
              "      <td>-0.017997</td>\n",
              "      <td>-0.045050</td>\n",
              "      <td>-0.073773</td>\n",
              "      <td>0.080805</td>\n",
              "      <td>0.036841</td>\n",
              "      <td>0.181541</td>\n",
              "      <td>0.044143</td>\n",
              "      <td>112.005000</td>\n",
              "    </tr>\n",
              "  </tbody>\n",
              "</table>\n",
              "<p>2 rows × 30 columns</p>\n",
              "</div>\n",
              "      <button class=\"colab-df-convert\" onclick=\"convertToInteractive('df-46994d17-e841-4842-8483-8a7d8f938cfe')\"\n",
              "              title=\"Convert this dataframe to an interactive table.\"\n",
              "              style=\"display:none;\">\n",
              "        \n",
              "  <svg xmlns=\"http://www.w3.org/2000/svg\" height=\"24px\"viewBox=\"0 0 24 24\"\n",
              "       width=\"24px\">\n",
              "    <path d=\"M0 0h24v24H0V0z\" fill=\"none\"/>\n",
              "    <path d=\"M18.56 5.44l.94 2.06.94-2.06 2.06-.94-2.06-.94-.94-2.06-.94 2.06-2.06.94zm-11 1L8.5 8.5l.94-2.06 2.06-.94-2.06-.94L8.5 2.5l-.94 2.06-2.06.94zm10 10l.94 2.06.94-2.06 2.06-.94-2.06-.94-.94-2.06-.94 2.06-2.06.94z\"/><path d=\"M17.41 7.96l-1.37-1.37c-.4-.4-.92-.59-1.43-.59-.52 0-1.04.2-1.43.59L10.3 9.45l-7.72 7.72c-.78.78-.78 2.05 0 2.83L4 21.41c.39.39.9.59 1.41.59.51 0 1.02-.2 1.41-.59l7.78-7.78 2.81-2.81c.8-.78.8-2.07 0-2.86zM5.41 20L4 18.59l7.72-7.72 1.47 1.35L5.41 20z\"/>\n",
              "  </svg>\n",
              "      </button>\n",
              "      \n",
              "  <style>\n",
              "    .colab-df-container {\n",
              "      display:flex;\n",
              "      flex-wrap:wrap;\n",
              "      gap: 12px;\n",
              "    }\n",
              "\n",
              "    .colab-df-convert {\n",
              "      background-color: #E8F0FE;\n",
              "      border: none;\n",
              "      border-radius: 50%;\n",
              "      cursor: pointer;\n",
              "      display: none;\n",
              "      fill: #1967D2;\n",
              "      height: 32px;\n",
              "      padding: 0 0 0 0;\n",
              "      width: 32px;\n",
              "    }\n",
              "\n",
              "    .colab-df-convert:hover {\n",
              "      background-color: #E2EBFA;\n",
              "      box-shadow: 0px 1px 2px rgba(60, 64, 67, 0.3), 0px 1px 3px 1px rgba(60, 64, 67, 0.15);\n",
              "      fill: #174EA6;\n",
              "    }\n",
              "\n",
              "    [theme=dark] .colab-df-convert {\n",
              "      background-color: #3B4455;\n",
              "      fill: #D2E3FC;\n",
              "    }\n",
              "\n",
              "    [theme=dark] .colab-df-convert:hover {\n",
              "      background-color: #434B5C;\n",
              "      box-shadow: 0px 1px 3px 1px rgba(0, 0, 0, 0.15);\n",
              "      filter: drop-shadow(0px 1px 2px rgba(0, 0, 0, 0.3));\n",
              "      fill: #FFFFFF;\n",
              "    }\n",
              "  </style>\n",
              "\n",
              "      <script>\n",
              "        const buttonEl =\n",
              "          document.querySelector('#df-46994d17-e841-4842-8483-8a7d8f938cfe button.colab-df-convert');\n",
              "        buttonEl.style.display =\n",
              "          google.colab.kernel.accessAllowed ? 'block' : 'none';\n",
              "\n",
              "        async function convertToInteractive(key) {\n",
              "          const element = document.querySelector('#df-46994d17-e841-4842-8483-8a7d8f938cfe');\n",
              "          const dataTable =\n",
              "            await google.colab.kernel.invokeFunction('convertToInteractive',\n",
              "                                                     [key], {});\n",
              "          if (!dataTable) return;\n",
              "\n",
              "          const docLinkHtml = 'Like what you see? Visit the ' +\n",
              "            '<a target=\"_blank\" href=https://colab.research.google.com/notebooks/data_table.ipynb>data table notebook</a>'\n",
              "            + ' to learn more about interactive tables.';\n",
              "          element.innerHTML = '';\n",
              "          dataTable['output_type'] = 'display_data';\n",
              "          await google.colab.output.renderOutput(dataTable, element);\n",
              "          const docLink = document.createElement('div');\n",
              "          docLink.innerHTML = docLinkHtml;\n",
              "          element.appendChild(docLink);\n",
              "        }\n",
              "      </script>\n",
              "    </div>\n",
              "  </div>\n",
              "  "
            ]
          },
          "metadata": {},
          "execution_count": 21
        }
      ]
    },
    {
      "cell_type": "markdown",
      "source": [
        "Splitting the data into Features and Targets"
      ],
      "metadata": {
        "id": "qX0_4lFk3LWk"
      }
    },
    {
      "cell_type": "code",
      "source": [
        "X = new_dataset.drop(columns='Class', axis=1)\n",
        "Y = new_dataset['Class']"
      ],
      "metadata": {
        "id": "nt4-SP9F3K6v"
      },
      "execution_count": 22,
      "outputs": []
    },
    {
      "cell_type": "code",
      "source": [
        "print(X)"
      ],
      "metadata": {
        "colab": {
          "base_uri": "https://localhost:8080/"
        },
        "id": "FPW-kaE14d-_",
        "outputId": "5e997016-9bbc-4750-8cf4-3c858e6367ac"
      },
      "execution_count": 23,
      "outputs": [
        {
          "output_type": "stream",
          "name": "stdout",
          "text": [
            "            Time        V1        V2        V3        V4        V5        V6  \\\n",
            "71582    54349.0  1.151517  0.022631  0.102991  1.134340  0.130690  0.513680   \n",
            "4303      3758.0 -0.812809 -0.019916  2.123482 -1.524092 -0.078559 -0.904809   \n",
            "123215   76848.0  1.335609  0.003761 -0.375240 -1.128282  0.160692 -0.505427   \n",
            "11718    20031.0  0.928848  0.170297  1.276773  2.714846  0.247682  2.136157   \n",
            "17849    28974.0 -0.576487  1.022091  1.628924 -0.374750  0.225452 -1.038670   \n",
            "...          ...       ...       ...       ...       ...       ...       ...   \n",
            "156990  109298.0 -1.000611  3.346850 -5.534491  6.835802 -0.299803  0.095951   \n",
            "157585  110087.0  1.934946  0.650678 -0.286957  3.987828  0.316052 -0.099449   \n",
            "157868  110547.0 -1.532810  2.232752 -5.923100  3.386708 -0.153443 -1.419748   \n",
            "157871  110552.0 -2.450367  2.107729 -5.140663  1.411304 -1.690780 -0.736427   \n",
            "157918  110617.0 -1.101035 -1.674928 -0.573388  5.617556  0.765556  0.440607   \n",
            "\n",
            "              V7        V8        V9  ...       V20       V21       V22  \\\n",
            "71582  -0.118203  0.241516  0.258076  ... -0.214451 -0.103468 -0.173367   \n",
            "4303   -0.033882 -0.063047 -0.119061  ...  0.102624 -0.075700 -0.279277   \n",
            "123215  0.160530 -0.210449  0.919300  ... -0.055568  0.027873  0.326596   \n",
            "11718  -0.793681  0.595445  1.229087  ... -0.299461  0.047688  0.700091   \n",
            "17849   0.875820 -0.121828 -0.594405  ... -0.041668 -0.245282 -0.828794   \n",
            "...          ...       ...       ...  ...       ...       ...       ...   \n",
            "156990 -2.440419  1.286301 -2.766438  ...  1.189814  0.439757 -0.694099   \n",
            "157585 -0.021483 -0.172327  0.508730  ... -0.344452 -0.173602 -0.190974   \n",
            "157868 -3.878576  1.444656 -1.465542  ...  0.520840  0.632505 -0.070838   \n",
            "157871 -3.657946  1.944906 -0.788388  ... -0.130438  0.800538  0.364617   \n",
            "157918  1.934740 -1.019788 -0.193244  ... -0.038314 -0.412526 -0.208823   \n",
            "\n",
            "             V23       V24       V25       V26       V27       V28  Amount  \n",
            "71582  -0.153331 -0.679949  0.681152 -0.284580  0.025597 -0.002064   17.68  \n",
            "4303    0.103711  0.314355 -0.168617 -0.673335  0.036935  0.101520   25.00  \n",
            "123215 -0.230687 -0.711931  0.881474 -0.523183  0.063024  0.008331    1.00  \n",
            "11718   0.032208 -0.981526  0.199405  0.237053  0.073797  0.009761   16.30  \n",
            "17849  -0.134234  0.337449  0.310325  0.011952 -0.076412 -0.014384    9.99  \n",
            "...          ...       ...       ...       ...       ...       ...     ...  \n",
            "156990  0.299660 -0.657601  0.101648  0.430457  0.824685  0.326952  186.13  \n",
            "157585  0.219976 -0.216597 -0.136692 -0.129954 -0.050077 -0.051082    1.00  \n",
            "157868 -0.490291 -0.359983  0.050678  1.095671  0.471741 -0.106667    0.76  \n",
            "157871  0.233608 -0.282078 -0.320311  0.492920  0.359976 -0.115471   80.22  \n",
            "157918  0.344833  1.091435 -0.686513  0.075809  0.033865 -0.832855  635.10  \n",
            "\n",
            "[848 rows x 30 columns]\n"
          ]
        }
      ]
    },
    {
      "cell_type": "code",
      "source": [
        "print(Y)"
      ],
      "metadata": {
        "colab": {
          "base_uri": "https://localhost:8080/"
        },
        "id": "KEQO7ScO4jeW",
        "outputId": "ee49941e-0507-46d6-cf0f-489a9220df33"
      },
      "execution_count": 24,
      "outputs": [
        {
          "output_type": "stream",
          "name": "stdout",
          "text": [
            "71582     0.0\n",
            "4303      0.0\n",
            "123215    0.0\n",
            "11718     0.0\n",
            "17849     0.0\n",
            "         ... \n",
            "156990    1.0\n",
            "157585    1.0\n",
            "157868    1.0\n",
            "157871    1.0\n",
            "157918    1.0\n",
            "Name: Class, Length: 848, dtype: float64\n"
          ]
        }
      ]
    },
    {
      "cell_type": "markdown",
      "source": [
        "Split the data into training data and testing data"
      ],
      "metadata": {
        "id": "BF639L0b4mMb"
      }
    },
    {
      "cell_type": "code",
      "source": [
        "X_train , X_test, Y_train , Y_test = train_test_split(X, Y, test_size=0.2, stratify = Y, random_state=2)"
      ],
      "metadata": {
        "id": "sZUtvgTu4p2O"
      },
      "execution_count": 25,
      "outputs": []
    },
    {
      "cell_type": "code",
      "source": [
        "print(X.shape, X_train.shape, X_test.shape)"
      ],
      "metadata": {
        "colab": {
          "base_uri": "https://localhost:8080/"
        },
        "id": "xhCKsw_i5afU",
        "outputId": "271328fc-b0e1-4668-cfc2-d74516ebce5a"
      },
      "execution_count": 26,
      "outputs": [
        {
          "output_type": "stream",
          "name": "stdout",
          "text": [
            "(848, 30) (678, 30) (170, 30)\n"
          ]
        }
      ]
    },
    {
      "cell_type": "markdown",
      "source": [
        "Model Training"
      ],
      "metadata": {
        "id": "WbToUTtN58Ah"
      }
    },
    {
      "cell_type": "markdown",
      "source": [
        "Logistic Regression"
      ],
      "metadata": {
        "id": "qvOM2PtM5-sr"
      }
    },
    {
      "cell_type": "code",
      "source": [
        "model = LogisticRegression(solver='lbfgs', max_iter=400)"
      ],
      "metadata": {
        "id": "WFPQZxuB6CPr"
      },
      "execution_count": 27,
      "outputs": []
    },
    {
      "cell_type": "code",
      "source": [
        "#training the Logistic regression model with training data\n",
        "model.fit(X_train, Y_train)"
      ],
      "metadata": {
        "colab": {
          "base_uri": "https://localhost:8080/"
        },
        "id": "4hRtRGZw6unY",
        "outputId": "4d6728b3-9547-4187-f248-1ff16a09a783"
      },
      "execution_count": 29,
      "outputs": [
        {
          "output_type": "execute_result",
          "data": {
            "text/plain": [
              "LogisticRegression(max_iter=400)"
            ]
          },
          "metadata": {},
          "execution_count": 29
        }
      ]
    },
    {
      "cell_type": "markdown",
      "source": [
        "Model evaluation"
      ],
      "metadata": {
        "id": "mg7waYc9qmgb"
      }
    },
    {
      "cell_type": "markdown",
      "source": [
        "Accuracy Score"
      ],
      "metadata": {
        "id": "Nmy1ILJsqsQw"
      }
    },
    {
      "cell_type": "code",
      "source": [
        "# accuracy score on training data\n",
        "X_train_prediction = model.predict(X_train)\n",
        "training_data_accuracy = accuracy_score(X_train_prediction, Y_train)"
      ],
      "metadata": {
        "id": "5RxAwcED683l"
      },
      "execution_count": 30,
      "outputs": []
    },
    {
      "cell_type": "code",
      "source": [
        "print(\"Accuracy on train data:\" ,training_data_accuracy)"
      ],
      "metadata": {
        "colab": {
          "base_uri": "https://localhost:8080/"
        },
        "id": "PRbhqD8BrFFh",
        "outputId": "36aa1e67-75c1-49ff-e527-1c9c80ee45b5"
      },
      "execution_count": 34,
      "outputs": [
        {
          "output_type": "stream",
          "name": "stdout",
          "text": [
            "Accuracy on train data: 0.9572271386430679\n"
          ]
        }
      ]
    },
    {
      "cell_type": "code",
      "source": [
        "# accuracy on test data\n",
        "X_test_prediction = model.predict(X_test)\n",
        "test_data_accuracy = accuracy_score(X_test_prediction, Y_test)"
      ],
      "metadata": {
        "id": "Olchw3rJrdZ1"
      },
      "execution_count": 32,
      "outputs": []
    },
    {
      "cell_type": "code",
      "source": [
        "print(\"Accuracy on test data: \",test_data_accuracy)"
      ],
      "metadata": {
        "colab": {
          "base_uri": "https://localhost:8080/"
        },
        "id": "NFHqPGM2ruIi",
        "outputId": "4f6ad593-a34f-4360-9d8b-1f0900ce58d0"
      },
      "execution_count": 35,
      "outputs": [
        {
          "output_type": "stream",
          "name": "stdout",
          "text": [
            "Accuracy on test data:  0.9411764705882353\n"
          ]
        }
      ]
    },
    {
      "cell_type": "markdown",
      "source": [
        "Random Forest Classsifier"
      ],
      "metadata": {
        "id": "XrkvuxYbuBLE"
      }
    },
    {
      "cell_type": "code",
      "source": [
        "rfc = RandomForestClassifier()\n",
        "rfc.fit(X_train, Y_train)"
      ],
      "metadata": {
        "colab": {
          "base_uri": "https://localhost:8080/"
        },
        "id": "P9HYpEfsuFr4",
        "outputId": "ca1bab06-81e5-472b-c818-ec592a5e2892"
      },
      "execution_count": 38,
      "outputs": [
        {
          "output_type": "execute_result",
          "data": {
            "text/plain": [
              "RandomForestClassifier()"
            ]
          },
          "metadata": {},
          "execution_count": 38
        }
      ]
    },
    {
      "cell_type": "markdown",
      "source": [
        "Accuracy Score"
      ],
      "metadata": {
        "id": "zal0D9GXupeL"
      }
    },
    {
      "cell_type": "code",
      "source": [
        "X_test_rfc = rfc.predict(X_test)\n",
        "test_data_rfcaccuracy = accuracy_score(X_test_rfc, Y_test)"
      ],
      "metadata": {
        "id": "J8Ig1l-Quaqb"
      },
      "execution_count": 41,
      "outputs": []
    },
    {
      "cell_type": "code",
      "source": [
        "print(\"Accuracy on test data using Random Forest Classifier: \", test_data_rfcaccuracy)"
      ],
      "metadata": {
        "colab": {
          "base_uri": "https://localhost:8080/"
        },
        "id": "-UuYfa9hvG48",
        "outputId": "6a3f1bbd-299d-4468-8cce-d4e76ad15b86"
      },
      "execution_count": 42,
      "outputs": [
        {
          "output_type": "stream",
          "name": "stdout",
          "text": [
            "Accuracy on test data using Random Forest Classifier:  0.9411764705882353\n"
          ]
        }
      ]
    }
  ]
}